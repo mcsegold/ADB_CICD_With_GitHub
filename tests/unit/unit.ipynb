{
 "cells": [
  {
   "cell_type": "code",
   "execution_count": 0,
   "metadata": {
    "application/vnd.databricks.v1+cell": {
     "cellMetadata": {
      "byteLimit": 2048000,
      "rowLimit": 10000
     },
     "inputWidgets": {},
     "nuid": "cb5c4677-88f0-45a5-96ed-40cf46ddbf8b",
     "showTitle": false,
     "tableResultSettingsMap": {},
     "title": ""
    }
   },
   "outputs": [],
   "source": [
    "%pip install pytest"
   ]
  },
  {
   "cell_type": "code",
   "execution_count": 0,
   "metadata": {
    "application/vnd.databricks.v1+cell": {
     "cellMetadata": {
      "byteLimit": 2048000,
      "rowLimit": 10000
     },
     "inputWidgets": {},
     "nuid": "265def58-776f-45cf-9245-211220e7ba3e",
     "showTitle": false,
     "tableResultSettingsMap": {},
     "title": ""
    }
   },
   "outputs": [],
   "source": [
    "%run ../../notebooks/sample_data_cleaning"
   ]
  },
  {
   "cell_type": "code",
   "execution_count": 0,
   "metadata": {
    "application/vnd.databricks.v1+cell": {
     "cellMetadata": {
      "byteLimit": 2048000,
      "rowLimit": 10000
     },
     "inputWidgets": {},
     "nuid": "d6c682d8-94e8-48e0-b3b7-e2f7a57a0806",
     "showTitle": false,
     "tableResultSettingsMap": {},
     "title": ""
    }
   },
   "outputs": [],
   "source": [
    "# test_sample_data_cleaning\n",
    "import pytest\n",
    "import pandas as pd\n",
    "\n",
    "def test_cleanse_data():\n",
    "    sample_data = pd.DataFrame({'col1': [1, None, 3]})\n",
    "    expected_data = pd.DataFrame({'col1': [1.0, 3.0]})  \n",
    "    cleansed_data = cleanse_data(sample_data)\n",
    "    #Compare 2 dataframes   \n",
    "    pd.testing.assert_frame_equal(cleansed_data.reset_index(drop=True), expected_data.reset_index(drop=True))\n",
    "    print(\"Unit test passed: cleanse_data works as expected\")\n",
    "\n",
    "test_cleanse_data()"
   ]
  }
 ],
 "metadata": {
  "application/vnd.databricks.v1+notebook": {
   "computePreferences": null,
   "dashboards": [],
   "environmentMetadata": {
    "base_environment": "",
    "environment_version": "2"
   },
   "inputWidgetPreferences": null,
   "language": "python",
   "notebookMetadata": {
    "pythonIndentUnit": 4
   },
   "notebookName": "unit",
   "widgets": {}
  },
  "language_info": {
   "name": "python"
  }
 },
 "nbformat": 4,
 "nbformat_minor": 0
}
