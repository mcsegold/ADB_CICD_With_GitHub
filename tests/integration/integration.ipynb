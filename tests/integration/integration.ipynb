{
 "cells": [
  {
   "cell_type": "code",
   "execution_count": 0,
   "metadata": {
    "application/vnd.databricks.v1+cell": {
     "cellMetadata": {
      "byteLimit": 2048000,
      "rowLimit": 10000
     },
     "inputWidgets": {},
     "nuid": "41898a89-2f38-4e7b-a751-095b5894a8b3",
     "showTitle": false,
     "tableResultSettingsMap": {},
     "title": ""
    }
   },
   "outputs": [],
   "source": [
    "def ingest_data():\n",
    "    return spark.createDataFrame([(1, \"A\"), (2, \"B\")], [\"id\", \"value\"])\n",
    "\n",
    "def transform_data(df):\n",
    "    return df.withColumn(\"value\", df[\"value\"].cast(\"string\"))\n",
    "\n",
    "def store_data(df):\n",
    "    df.write.mode(\"overwrite\").parquet(\"/tmp/test_data\")\n",
    "\n",
    "def test_integration():\n",
    "    raw_data = ingest_data()\n",
    "    transformed_data = transform_data(raw_data)\n",
    "    store_data(transformed_data)\n",
    "    stored_data = spark.read.parquet(\"/tmp/test_data\")\n",
    "    assert stored_data.count() == 2\n",
    "    assert stored_data.schema == transformed_data.schema\n",
    "    print(\"Integration tests passed: data integration works as expected\")\n",
    "test_integration()"
   ]
  }
 ],
 "metadata": {
  "application/vnd.databricks.v1+notebook": {
   "computePreferences": null,
   "dashboards": [],
   "environmentMetadata": {
    "base_environment": "",
    "environment_version": "2"
   },
   "inputWidgetPreferences": null,
   "language": "python",
   "notebookMetadata": {
    "pythonIndentUnit": 4
   },
   "notebookName": "integration",
   "widgets": {}
  },
  "language_info": {
   "name": "python"
  }
 },
 "nbformat": 4,
 "nbformat_minor": 0
}
