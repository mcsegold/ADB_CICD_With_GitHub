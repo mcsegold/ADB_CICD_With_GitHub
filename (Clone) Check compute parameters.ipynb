{
 "cells": [
  {
   "cell_type": "code",
   "execution_count": 0,
   "metadata": {
    "application/vnd.databricks.v1+cell": {
     "cellMetadata": {
      "byteLimit": 2048000,
      "rowLimit": 10000
     },
     "inputWidgets": {},
     "nuid": "717fa020-fa2a-44d4-8799-31c024a51024",
     "showTitle": false,
     "tableResultSettingsMap": {},
     "title": ""
    }
   },
   "outputs": [],
   "source": [
    "#Check compute parameters which are not displayed in environment\n",
    "#new changes 2 20250510\n",
    "# Define the parameters to retrieve\n",
    "parameters = [\n",
    "    \"spark.databricks.io.cache.enabled\",\n",
    "    \"spark.databricks.io.cache.maxDiskUsage\",\n",
    "    \"spark.databricks.io.cache.maxMetaDataCache\",\n",
    "    \"spark.databricks.io.cache.compression.enabled\",\n",
    "    \"spark.databricks.optimizer.dynamicFilePruning\",\n",
    "    \"spark.databricks.optimizer.deltaTableSizeThreshold\",\n",
    "    \"spark.databricks.delta.merge.enableLowShuffle\",\n",
    "\n",
    "    \"spark.databricks.optimizer.adaptive.enabled\",\n",
    "    \"spark.sql.shuffle.partitions\",\n",
    "    \"spark.sql.adaptive.enabled\",\n",
    "    \"spark.databricks.adaptive.autoBroadcastJoinThreshold\",\n",
    "    \"spark.sql.adaptive.coalescePartitions.enabled\",\n",
    "    \"spark.sql.adaptive.advisoryPartitionSizeInBytes\",\n",
    "    \"spark.sql.adaptive.coalescePartitions.minPartitionSize\",\n",
    "    \"spark.sql.adaptive.coalescePartitions.minPartitionNum\",\n",
    "    \"spark.sql.adaptive.skewJoin.enabled\",\n",
    "    \"spark.sql.adaptive.skewJoin.skewedPartitionFactor\",\n",
    "    \"spark.sql.adaptive.skewJoin.skewedPartitionThresholdInBytes\",\n",
    "    \"spark.databricks.adaptive.emptyRelationPropagation.enabled\",\n",
    "    \"spark.sql.cbo.enabled\",\n",
    "    \"spark.databricks.optimizer.rangeJoin.binSize\",\n",
    "    \"spark.databricks.delta.rowLevelConcurrencyPreview\",\n",
    "    \"spark.databricks.io.skipping.bloomFilter.enabled\",\n",
    "    \"delta.enableRowTracking\",\n",
    "    \"delta.feature.variantType-preview\",\n",
    "    \"spark.decommission.enabled\",\n",
    "    \"spark.storage.decommission.enabled\",\n",
    "    \"spark.storage.decommission.shuffleBlocks.enabled\",\n",
    "    \"spark.storage.decommission.rddBlocks.enabled\",\n",
    "    \"spark.eventLog.enabled\",\n",
    "    \"spark.eventLog.dir\",\n",
    "    \"spark.databricks.delta.properties.defaults.autoOptimize.optimizeWrite\",\n",
    "    \"spark.databricks.delta.properties.defaults.autoOptimize.autoCompact\",\n",
    "    \"spark.sql.autoBroadcastJoinThreshold\",\n",
    "    \"spark.databricks.adaptive.autoBroadcastJoinThreshold\",\n",
    "    \"spark.sql.join.preferSortMergeJoin\"\n",
    "\n",
    "]\n",
    "\n",
    "# Retrieve the values for the parameters\n",
    "values = []\n",
    "for param in parameters:\n",
    "    try:\n",
    "        value = spark.conf.get(param)\n",
    "    except Exception as e:\n",
    "        value = \"Not Set\"\n",
    "    values.append(value)\n",
    "\n",
    "# Create a DataFrame with the parameters and their values\n",
    "df = spark.createDataFrame(zip(parameters, values), [\"Parameter\", \"Value\"])\n",
    "\n",
    "# Display the DataFrame\n",
    "\n",
    "display(df)"
   ]
  }
 ],
 "metadata": {
  "application/vnd.databricks.v1+notebook": {
   "computePreferences": null,
   "dashboards": [],
   "environmentMetadata": {
    "base_environment": "",
    "environment_version": "1"
   },
   "inputWidgetPreferences": null,
   "language": "python",
   "notebookMetadata": {
    "pythonIndentUnit": 4
   },
   "notebookName": "(Clone) Check compute parameters",
   "widgets": {}
  },
  "language_info": {
   "name": "python"
  }
 },
 "nbformat": 4,
 "nbformat_minor": 0
}
